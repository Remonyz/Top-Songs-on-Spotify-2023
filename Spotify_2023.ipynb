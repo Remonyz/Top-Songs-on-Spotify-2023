{
 "cells": [
  {
   "cell_type": "markdown",
   "id": "d56d78de-281d-46b0-b8a0-c35f9f6c210c",
   "metadata": {},
   "source": [
    "<h1>Spotify 2023 Top Songs Analysis</h1>"
   ]
  },
  {
   "cell_type": "markdown",
   "id": "03f0bdba-712b-4643-84cd-1e2a8b1fba3f",
   "metadata": {},
   "source": [
    "<h2>Query Relevant Columns From Raw Dataset</h2>"
   ]
  },
  {
   "cell_type": "markdown",
   "id": "810a24b0-43e6-4980-b660-09173922f145",
   "metadata": {},
   "source": [
    "<div class=\"alert alert-block alert-info\">These queries were used in MySQL and moved to this notebook for demonstration purposes</div>"
   ]
  },
  {
   "cell_type": "code",
   "execution_count": null,
   "id": "0b406c70-94f9-421c-bf99-551f48882ed6",
   "metadata": {},
   "outputs": [],
   "source": [
    "-- See how many top songs are from which year \n",
    "SELECT DISTINCT released_year, COUNT(released_year)\n",
    "FROM `spotify`.`spotify-2023`\n",
    "GROUP BY released_year\n",
    "ORDER BY released_year DESC;\n",
    "\n",
    "-- Select relevant columns for analysis\n",
    "SELECT `track_name`, `artist(s)_name`, `artist_count`, `released_year`, `streams`, `in_spotify_playlists`, `in_apple_playlists`, `in_deezer_playlists`, `bpm`, `key`, `mode`\n",
    "FROM `spotify`.`spotify-2023`;"
   ]
  },
  {
   "cell_type": "markdown",
   "id": "3de87a08-7979-4eb2-8311-abcde3f8cf6b",
   "metadata": {},
   "source": [
    "<h2>Import Queried Dataset</h2>"
   ]
  },
  {
   "cell_type": "code",
   "execution_count": 23,
   "id": "6866ee4b-bf63-4fa2-bda7-1b5ee4fc9cb6",
   "metadata": {},
   "outputs": [],
   "source": [
    "import pandas as pd"
   ]
  },
  {
   "cell_type": "code",
   "execution_count": 29,
   "id": "b4cd2368-fd44-47da-9071-d79febc8d9fb",
   "metadata": {},
   "outputs": [
    {
     "data": {
      "text/html": [
       "<div>\n",
       "<style scoped>\n",
       "    .dataframe tbody tr th:only-of-type {\n",
       "        vertical-align: middle;\n",
       "    }\n",
       "\n",
       "    .dataframe tbody tr th {\n",
       "        vertical-align: top;\n",
       "    }\n",
       "\n",
       "    .dataframe thead th {\n",
       "        text-align: right;\n",
       "    }\n",
       "</style>\n",
       "<table border=\"1\" class=\"dataframe\">\n",
       "  <thead>\n",
       "    <tr style=\"text-align: right;\">\n",
       "      <th></th>\n",
       "      <th>track_name</th>\n",
       "      <th>artist(s)_name</th>\n",
       "      <th>artist_count</th>\n",
       "      <th>released_year</th>\n",
       "      <th>streams</th>\n",
       "      <th>in_spotify_playlists</th>\n",
       "      <th>in_apple_playlists</th>\n",
       "      <th>in_deezer_playlists</th>\n",
       "      <th>bpm</th>\n",
       "      <th>key</th>\n",
       "      <th>mode</th>\n",
       "    </tr>\n",
       "  </thead>\n",
       "  <tbody>\n",
       "    <tr>\n",
       "      <th>0</th>\n",
       "      <td>Seven (feat. Latto) (Explicit Ver.)</td>\n",
       "      <td>Latto, Jung Kook</td>\n",
       "      <td>2</td>\n",
       "      <td>2023</td>\n",
       "      <td>141381703</td>\n",
       "      <td>553</td>\n",
       "      <td>43</td>\n",
       "      <td>45</td>\n",
       "      <td>125</td>\n",
       "      <td>B</td>\n",
       "      <td>Major</td>\n",
       "    </tr>\n",
       "    <tr>\n",
       "      <th>1</th>\n",
       "      <td>LALA</td>\n",
       "      <td>Myke Towers</td>\n",
       "      <td>1</td>\n",
       "      <td>2023</td>\n",
       "      <td>133716286</td>\n",
       "      <td>1474</td>\n",
       "      <td>48</td>\n",
       "      <td>58</td>\n",
       "      <td>92</td>\n",
       "      <td>C#</td>\n",
       "      <td>Major</td>\n",
       "    </tr>\n",
       "    <tr>\n",
       "      <th>2</th>\n",
       "      <td>vampire</td>\n",
       "      <td>Olivia Rodrigo</td>\n",
       "      <td>1</td>\n",
       "      <td>2023</td>\n",
       "      <td>140003974</td>\n",
       "      <td>1397</td>\n",
       "      <td>94</td>\n",
       "      <td>91</td>\n",
       "      <td>138</td>\n",
       "      <td>F</td>\n",
       "      <td>Major</td>\n",
       "    </tr>\n",
       "    <tr>\n",
       "      <th>3</th>\n",
       "      <td>Cruel Summer</td>\n",
       "      <td>Taylor Swift</td>\n",
       "      <td>1</td>\n",
       "      <td>2019</td>\n",
       "      <td>800840817</td>\n",
       "      <td>7858</td>\n",
       "      <td>116</td>\n",
       "      <td>125</td>\n",
       "      <td>170</td>\n",
       "      <td>A</td>\n",
       "      <td>Major</td>\n",
       "    </tr>\n",
       "    <tr>\n",
       "      <th>4</th>\n",
       "      <td>WHERE SHE GOES</td>\n",
       "      <td>Bad Bunny</td>\n",
       "      <td>1</td>\n",
       "      <td>2023</td>\n",
       "      <td>303236322</td>\n",
       "      <td>3133</td>\n",
       "      <td>84</td>\n",
       "      <td>87</td>\n",
       "      <td>144</td>\n",
       "      <td>A</td>\n",
       "      <td>Minor</td>\n",
       "    </tr>\n",
       "    <tr>\n",
       "      <th>...</th>\n",
       "      <td>...</td>\n",
       "      <td>...</td>\n",
       "      <td>...</td>\n",
       "      <td>...</td>\n",
       "      <td>...</td>\n",
       "      <td>...</td>\n",
       "      <td>...</td>\n",
       "      <td>...</td>\n",
       "      <td>...</td>\n",
       "      <td>...</td>\n",
       "      <td>...</td>\n",
       "    </tr>\n",
       "    <tr>\n",
       "      <th>821</th>\n",
       "      <td>My Mind &amp; Me</td>\n",
       "      <td>Selena Gomez</td>\n",
       "      <td>1</td>\n",
       "      <td>2022</td>\n",
       "      <td>91473363</td>\n",
       "      <td>953</td>\n",
       "      <td>61</td>\n",
       "      <td>37</td>\n",
       "      <td>144</td>\n",
       "      <td>A</td>\n",
       "      <td>Major</td>\n",
       "    </tr>\n",
       "    <tr>\n",
       "      <th>822</th>\n",
       "      <td>Bigger Than The Whole Sky</td>\n",
       "      <td>Taylor Swift</td>\n",
       "      <td>1</td>\n",
       "      <td>2022</td>\n",
       "      <td>121871870</td>\n",
       "      <td>1180</td>\n",
       "      <td>4</td>\n",
       "      <td>8</td>\n",
       "      <td>166</td>\n",
       "      <td>F#</td>\n",
       "      <td>Major</td>\n",
       "    </tr>\n",
       "    <tr>\n",
       "      <th>823</th>\n",
       "      <td>A Veces (feat. Feid)</td>\n",
       "      <td>Feid, Paulo Londra</td>\n",
       "      <td>2</td>\n",
       "      <td>2022</td>\n",
       "      <td>73513683</td>\n",
       "      <td>573</td>\n",
       "      <td>2</td>\n",
       "      <td>7</td>\n",
       "      <td>92</td>\n",
       "      <td>C#</td>\n",
       "      <td>Major</td>\n",
       "    </tr>\n",
       "    <tr>\n",
       "      <th>824</th>\n",
       "      <td>En La De Ella</td>\n",
       "      <td>Feid, Sech, Jhayco</td>\n",
       "      <td>3</td>\n",
       "      <td>2022</td>\n",
       "      <td>133895612</td>\n",
       "      <td>1320</td>\n",
       "      <td>29</td>\n",
       "      <td>17</td>\n",
       "      <td>97</td>\n",
       "      <td>C#</td>\n",
       "      <td>Major</td>\n",
       "    </tr>\n",
       "    <tr>\n",
       "      <th>825</th>\n",
       "      <td>Alone</td>\n",
       "      <td>Burna Boy</td>\n",
       "      <td>1</td>\n",
       "      <td>2022</td>\n",
       "      <td>96007391</td>\n",
       "      <td>782</td>\n",
       "      <td>27</td>\n",
       "      <td>32</td>\n",
       "      <td>90</td>\n",
       "      <td>E</td>\n",
       "      <td>Minor</td>\n",
       "    </tr>\n",
       "  </tbody>\n",
       "</table>\n",
       "<p>826 rows × 11 columns</p>\n",
       "</div>"
      ],
      "text/plain": [
       "                              track_name      artist(s)_name  artist_count  \\\n",
       "0    Seven (feat. Latto) (Explicit Ver.)    Latto, Jung Kook             2   \n",
       "1                                   LALA         Myke Towers             1   \n",
       "2                                vampire      Olivia Rodrigo             1   \n",
       "3                           Cruel Summer        Taylor Swift             1   \n",
       "4                         WHERE SHE GOES           Bad Bunny             1   \n",
       "..                                   ...                 ...           ...   \n",
       "821                         My Mind & Me        Selena Gomez             1   \n",
       "822            Bigger Than The Whole Sky        Taylor Swift             1   \n",
       "823                 A Veces (feat. Feid)  Feid, Paulo Londra             2   \n",
       "824                        En La De Ella  Feid, Sech, Jhayco             3   \n",
       "825                                Alone           Burna Boy             1   \n",
       "\n",
       "     released_year    streams  in_spotify_playlists  in_apple_playlists  \\\n",
       "0             2023  141381703                   553                  43   \n",
       "1             2023  133716286                  1474                  48   \n",
       "2             2023  140003974                  1397                  94   \n",
       "3             2019  800840817                  7858                 116   \n",
       "4             2023  303236322                  3133                  84   \n",
       "..             ...        ...                   ...                 ...   \n",
       "821           2022   91473363                   953                  61   \n",
       "822           2022  121871870                  1180                   4   \n",
       "823           2022   73513683                   573                   2   \n",
       "824           2022  133895612                  1320                  29   \n",
       "825           2022   96007391                   782                  27   \n",
       "\n",
       "     in_deezer_playlists  bpm key   mode  \n",
       "0                     45  125   B  Major  \n",
       "1                     58   92  C#  Major  \n",
       "2                     91  138   F  Major  \n",
       "3                    125  170   A  Major  \n",
       "4                     87  144   A  Minor  \n",
       "..                   ...  ...  ..    ...  \n",
       "821                   37  144   A  Major  \n",
       "822                    8  166  F#  Major  \n",
       "823                    7   92  C#  Major  \n",
       "824                   17   97  C#  Major  \n",
       "825                   32   90   E  Minor  \n",
       "\n",
       "[826 rows x 11 columns]"
      ]
     },
     "execution_count": 29,
     "metadata": {},
     "output_type": "execute_result"
    }
   ],
   "source": [
    "df = pd.read_csv(r\"C:\\Users\\justi\\Downloads\\spotify_2023_queried.csv\") #replace with file path name\n",
    "df"
   ]
  },
  {
   "cell_type": "markdown",
   "id": "9ee67e64-d67d-44a4-8e05-988d660b54a3",
   "metadata": {},
   "source": [
    "<h2>Music Analysis</h2>"
   ]
  },
  {
   "cell_type": "markdown",
   "id": "4772a5c6-0f8f-43b5-baaf-87b3448a165c",
   "metadata": {},
   "source": [
    "<h3>Explore patterns in audio features to understand trends and preferences in popular songs</h3>"
   ]
  },
  {
   "cell_type": "code",
   "execution_count": 31,
   "id": "157f5b1a-5e30-4df8-91ad-fc1f272219d0",
   "metadata": {},
   "outputs": [],
   "source": [
    "import matplotlib.pyplot as plt"
   ]
  },
  {
   "cell_type": "code",
   "execution_count": 33,
   "id": "e6801427-be21-469b-81ff-fb8652378f54",
   "metadata": {},
   "outputs": [
    {
     "name": "stdout",
     "output_type": "stream",
     "text": [
      "              bpm\n",
      "count  826.000000\n",
      "mean   122.990315\n",
      "std     27.915933\n",
      "min     65.000000\n",
      "25%    100.000000\n",
      "50%    121.000000\n",
      "75%    141.750000\n",
      "max    206.000000\n",
      "Most common BPM: 120\n",
      "Most common key: C#\n",
      "Most common mode: Major\n",
      "Mode distribution:\n",
      "mode\n",
      "Major    471\n",
      "Minor    355\n",
      "Name: count, dtype: int64\n",
      "Key distribution:\n",
      "key\n",
      "C#    102\n",
      "G      83\n",
      "F      81\n",
      "G#     79\n",
      "B      71\n",
      "D      68\n",
      "A      66\n",
      "F#     63\n",
      "E      53\n",
      "A#     52\n",
      "D#     27\n",
      "Name: count, dtype: int64\n"
     ]
    }
   ],
   "source": [
    "audio_features_summary = df[['bpm', 'key', 'mode']].describe()\n",
    "print(audio_features_summary)\n",
    "\n",
    "most_common_bpm = df['bpm'].mode()[0]\n",
    "most_common_key = df['key'].mode()[0]\n",
    "most_common_mode = df['mode'].mode()[0]\n",
    "print(f\"Most common BPM: {most_common_bpm}\")\n",
    "print(f\"Most common key: {most_common_key}\")\n",
    "print(f\"Most common mode: {most_common_mode}\")\n",
    "\n",
    "mode_distribution = df['mode'].value_counts()\n",
    "print(\"Mode distribution:\")\n",
    "print(mode_distribution)\n",
    "\n",
    "key_distribution = df['key'].value_counts()\n",
    "print(\"Key distribution:\")\n",
    "print(key_distribution)"
   ]
  },
  {
   "cell_type": "code",
   "execution_count": 35,
   "id": "aaf8597b-c86d-424d-8b9a-bf622f1dc63b",
   "metadata": {},
   "outputs": [
    {
     "data": {
      "image/png": "[encoded data removed]",
      "text/plain": [
       "<Figure size 1000x500 with 1 Axes>"
      ]
     },
     "metadata": {},
     "output_type": "display_data"
    },
    {
     "data": {
      "image/png": "[encoded data removed]",
      "text/plain": [
       "<Figure size 1200x600 with 1 Axes>"
      ]
     },
     "metadata": {},
     "output_type": "display_data"
    }
   ],
   "source": [
    "# Plotting mode distribution\n",
    "plt.figure(figsize=(10, 5))\n",
    "mode_distribution.plot(kind='bar', color='skyblue')\n",
    "plt.title('Mode Distribution')\n",
    "plt.xlabel('Mode')\n",
    "plt.ylabel('Count')\n",
    "plt.xticks(rotation=0)  # Keeps the x-axis labels horizontal\n",
    "plt.show()\n",
    "\n",
    "# Plotting key distribution\n",
    "plt.figure(figsize=(12, 6))\n",
    "key_distribution.plot(kind='bar', color='lightgreen')\n",
    "plt.title('Key Distribution')\n",
    "plt.xlabel('Key')\n",
    "plt.ylabel('Count')\n",
    "plt.xticks(rotation=0)  # Keeps the x-axis labels horizontal\n",
    "plt.show()"
   ]
  },
  {
   "cell_type": "markdown",
   "id": "b741b725-5ac0-4533-a3cb-3d4feeaa63c3",
   "metadata": {},
   "source": [
    "<h2>Platform Comparison</h2>"
   ]
  },
  {
   "cell_type": "markdown",
   "id": "a6dde894-077c-41ec-96a4-e5313e0f333b",
   "metadata": {},
   "source": [
    "<h3>Compare the song's popularity across different music platforms</h3>"
   ]
  },
  {
   "cell_type": "code",
   "execution_count": 38,
   "id": "30817af5-0a64-40d1-9d81-167376d3f89c",
   "metadata": {},
   "outputs": [
    {
     "name": "stdout",
     "output_type": "stream",
     "text": [
      "Average Spotify playlists: 3059.8317191283295\n",
      "Average Apple playlists: 48.592009685230025\n",
      "Average Deezer playlists: 94.25060532687651\n",
      "Correlation between streams and Spotify playlists: 0.7477726810553583\n",
      "Correlation between streams and Apple playlists: 0.6244730259854405\n",
      "Correlation between streams and Deezer playlists: 0.694305755754302\n"
     ]
    }
   ],
   "source": [
    "# Average number of playlists across platforms\n",
    "avg_spotify_playlists = df['in_spotify_playlists'].mean()\n",
    "avg_apple_playlists = df['in_apple_playlists'].mean()\n",
    "avg_deezer_playlists = df['in_deezer_playlists'].mean()\n",
    "\n",
    "print(f\"Average Spotify playlists: {avg_spotify_playlists}\")\n",
    "print(f\"Average Apple playlists: {avg_apple_playlists}\")\n",
    "print(f\"Average Deezer playlists: {avg_deezer_playlists}\")\n",
    "\n",
    "# Correlation between streams and playlists on each platform\n",
    "correlation_spotify = df['streams'].corr(df['in_spotify_playlists'])\n",
    "correlation_apple = df['streams'].corr(df['in_apple_playlists'])\n",
    "correlation_deezer = df['streams'].corr(df['in_deezer_playlists'])\n",
    "\n",
    "print(f\"Correlation between streams and Spotify playlists: {correlation_spotify}\")\n",
    "print(f\"Correlation between streams and Apple playlists: {correlation_apple}\")\n",
    "print(f\"Correlation between streams and Deezer playlists: {correlation_deezer}\")"
   ]
  },
  {
   "cell_type": "markdown",
   "id": "a1b118bb-a06c-41d4-a6f3-a6768de4dc72",
   "metadata": {},
   "source": [
    "<h2>Artist Impact</h2>"
   ]
  },
  {
   "cell_type": "markdown",
   "id": "b7d7caf3-69bc-4637-bdea-3d1dfc4ff668",
   "metadata": {},
   "source": [
    "<h3>Analyze how artist involvement and attributes relate to a song's success</h3>"
   ]
  },
  {
   "cell_type": "code",
   "execution_count": 42,
   "id": "149cf08a-705f-4042-aab2-21ead8c95cf2",
   "metadata": {},
   "outputs": [
    {
     "name": "stdout",
     "output_type": "stream",
     "text": [
      "Average streams by artist count:\n",
      "artist_count\n",
      "1    3.948046e+08\n",
      "2    3.407826e+08\n",
      "3    2.955419e+08\n",
      "4    3.061062e+08\n",
      "5    1.448082e+08\n",
      "6    8.746645e+07\n",
      "7    2.454002e+08\n",
      "8    1.732212e+08\n",
      "Name: streams, dtype: float64\n",
      "Top 10 artists by total streams:\n",
      "artist(s)_name\n",
      "Taylor Swift      12939819427\n",
      "Bad Bunny          9997799607\n",
      "The Weeknd         7867833376\n",
      "Harry Styles       6772877034\n",
      "SZA                4557811204\n",
      "Bruno Mars         4205493931\n",
      "Olivia Rodrigo     3696965124\n",
      "BTS                2696993599\n",
      "Mï¿½ï¿½ne          2675632206\n",
      "Arctic Monkeys     2514146936\n",
      "Name: streams, dtype: int64\n"
     ]
    }
   ],
   "source": [
    "# Average streams by artist count\n",
    "avg_streams_by_artist_count = df.groupby('artist_count')['streams'].mean()\n",
    "print(\"Average streams by artist count:\")\n",
    "print(avg_streams_by_artist_count)\n",
    "\n",
    "# Top 10 artists by total streams\n",
    "top_artists_by_streams = df.groupby('artist(s)_name')['streams'].sum().nlargest(10)\n",
    "print(\"Top 10 artists by total streams:\")\n",
    "print(top_artists_by_streams)"
   ]
  },
  {
   "cell_type": "code",
   "execution_count": 44,
   "id": "469a61ea-d90a-48b3-87ba-e5c7375e2c28",
   "metadata": {},
   "outputs": [
    {
     "data": {
      "image/png": "[encoded data removed]",
      "text/plain": [
       "<Figure size 1000x500 with 1 Axes>"
      ]
     },
     "metadata": {},
     "output_type": "display_data"
    },
    {
     "data": {
      "image/png": "[encoded data removed]",
      "text/plain": [
       "<Figure size 1200x600 with 1 Axes>"
      ]
     },
     "metadata": {},
     "output_type": "display_data"
    }
   ],
   "source": [
    "# Plotting average streams by artist count\n",
    "plt.figure(figsize=(10, 5))\n",
    "avg_streams_by_artist_count.plot(kind='bar', color='skyblue')\n",
    "plt.title('Average Streams by Artist Count')\n",
    "plt.xlabel('Artist Count')\n",
    "plt.ylabel('Streams')\n",
    "plt.xticks(rotation=0)  # Keeps the x-axis labels horizontal\n",
    "plt.show()\n",
    "\n",
    "# Plotting top 10 artist by total streams in 2023\n",
    "plt.figure(figsize=(12, 6))\n",
    "top_artists_by_streams.plot(kind='bar', color='lightgreen')\n",
    "plt.title('Top Streams')\n",
    "plt.xlabel('Artists')\n",
    "plt.ylabel('Streams')\n",
    "plt.xticks(rotation=0)  # Keeps the x-axis labels horizontal\n",
    "plt.show()"
   ]
  },
  {
   "cell_type": "markdown",
   "id": "a668df47-8443-4128-8e36-453ffdfadde2",
   "metadata": {},
   "source": [
    "<h2>Temporal Trends</h2>"
   ]
  },
  {
   "cell_type": "markdown",
   "id": "32bdcf4e-1799-4596-95ad-2c6ecaf40355",
   "metadata": {},
   "source": [
    "<h3>Identify any shifts in music attributes and preferences over time</h3>"
   ]
  },
  {
   "cell_type": "code",
   "execution_count": 6,
   "id": "87e3c032-26eb-4bae-9e63-d2494746c58c",
   "metadata": {},
   "outputs": [
    {
     "name": "stdout",
     "output_type": "stream",
     "text": [
      "Average BPM by year:\n",
      "released_year\n",
      "1930    130.000000\n",
      "1942     96.000000\n",
      "1946    139.000000\n",
      "1950    143.000000\n",
      "1952    140.000000\n",
      "1957    175.000000\n",
      "1958    132.500000\n",
      "1959    120.500000\n",
      "1963    140.000000\n",
      "1968    116.000000\n",
      "1970    148.000000\n",
      "1971    147.000000\n",
      "1973     80.000000\n",
      "1979     95.000000\n",
      "1982    148.000000\n",
      "1983    117.000000\n",
      "1984    108.000000\n",
      "1985    108.000000\n",
      "1986    142.500000\n",
      "1996     88.000000\n",
      "1997    144.000000\n",
      "1998    156.000000\n",
      "2000    125.000000\n",
      "2004     95.500000\n",
      "2005     93.000000\n",
      "2007    140.000000\n",
      "2010    123.200000\n",
      "2011    131.200000\n",
      "2012    152.400000\n",
      "2013    128.000000\n",
      "2014    100.428571\n",
      "2015    128.857143\n",
      "2016    127.545455\n",
      "2017    124.923077\n",
      "2018    122.428571\n",
      "2019    121.653846\n",
      "2020    119.033333\n",
      "2021    123.352941\n",
      "2022    121.984925\n",
      "2023    124.364706\n",
      "Name: bpm, dtype: float64\n",
      "Most common key by year:\n",
      "released_year\n",
      "1930      F#\n",
      "1942       A\n",
      "1946      C#\n",
      "1950       D\n",
      "1952    None\n",
      "1957      G#\n",
      "1958       G\n",
      "1959      C#\n",
      "1963       D\n",
      "1968    None\n",
      "1970       D\n",
      "1971       D\n",
      "1973       F\n",
      "1979       B\n",
      "1982       A\n",
      "1983      C#\n",
      "1984      C#\n",
      "1985      A#\n",
      "1986       A\n",
      "1996       G\n",
      "1997       F\n",
      "1998       B\n",
      "2000      C#\n",
      "2004      A#\n",
      "2005       F\n",
      "2007    None\n",
      "2010       B\n",
      "2011       A\n",
      "2012      A#\n",
      "2013      C#\n",
      "2014      A#\n",
      "2015      D#\n",
      "2016       A\n",
      "2017       B\n",
      "2018      C#\n",
      "2019       E\n",
      "2020       F\n",
      "2021      C#\n",
      "2022      C#\n",
      "2023       B\n",
      "Name: key, dtype: object\n",
      "Most common mode by year:\n",
      "released_year\n",
      "1930    Minor\n",
      "1942    Major\n",
      "1946    Major\n",
      "1950    Major\n",
      "1952    Major\n",
      "1957    Major\n",
      "1958    Major\n",
      "1959    Major\n",
      "1963    Major\n",
      "1968    Major\n",
      "1970    Major\n",
      "1971    Major\n",
      "1973    Minor\n",
      "1979    Major\n",
      "1982    Major\n",
      "1983    Major\n",
      "1984    Major\n",
      "1985    Minor\n",
      "1986    Major\n",
      "1996    Major\n",
      "1997    Major\n",
      "1998    Minor\n",
      "2000    Major\n",
      "2004    Major\n",
      "2005    Major\n",
      "2007    Major\n",
      "2010    Minor\n",
      "2011    Major\n",
      "2012    Major\n",
      "2013    Major\n",
      "2014    Major\n",
      "2015    Major\n",
      "2016    Minor\n",
      "2017    Major\n",
      "2018    Major\n",
      "2019    Major\n",
      "2020    Minor\n",
      "2021    Major\n",
      "2022    Major\n",
      "2023    Major\n",
      "Name: mode, dtype: object\n"
     ]
    }
   ],
   "source": [
    "# Average BPM by year\n",
    "avg_bpm_by_year = df.groupby('released_year')['bpm'].mean()\n",
    "print(\"Average BPM by year:\")\n",
    "print(avg_bpm_by_year)\n",
    "\n",
    "most_common_key_by_year = df.groupby('released_year')['key'].agg(lambda x: x.mode().iloc[0] if not x.mode().empty else None)\n",
    "print(\"Most common key by year:\")\n",
    "print(most_common_key_by_year)\n",
    "\n",
    "most_common_mode_by_year = df.groupby('released_year')['mode'].agg(lambda x: x.mode().iloc[0] if not x.mode().empty else None)\n",
    "print(\"Most common mode by year:\")\n",
    "print(most_common_mode_by_year)\n"
   ]
  },
  {
   "cell_type": "markdown",
   "id": "45c284f2-961e-45c5-a774-fcd5dc81641d",
   "metadata": {},
   "source": [
    "<h2>Cross Platform Presence</h2>"
   ]
  },
  {
   "cell_type": "markdown",
   "id": "632fc4f9-2125-4c9a-a455-48d3b76b46b7",
   "metadata": {},
   "source": [
    "<h3>Investigate how songs perform across different streaming services</h3>"
   ]
  },
  {
   "cell_type": "code",
   "execution_count": 7,
   "id": "7e2ef062-c8e0-4cf3-9a9f-4b959890faa3",
   "metadata": {},
   "outputs": [
    {
     "name": "stdout",
     "output_type": "stream",
     "text": [
      "Correlation between Spotify and Apple playlists: 0.692023800788707\n",
      "Correlation between Spotify and Deezer playlists: 0.7742690666002591\n",
      "Correlation between Apple and Deezer playlists: 0.6200453882692475\n",
      "Top 10 songs with the highest cross-platform presence:\n",
      "                                  track_name            artist(s)_name  \\\n",
      "551                                     Lost               Frank Ocean   \n",
      "87                               Money Trees  Kendrick Lamar, Jay Rock   \n",
      "131  Every Breath You Take - Remastered 2003                The Police   \n",
      "362   Running Up That Hill (A Deal With God)                 Kate Bush   \n",
      "143                             Pink + White               Frank Ocean   \n",
      "91                            No Role Modelz                   J. Cole   \n",
      "144                                  Circles               Post Malone   \n",
      "777                                  Bound 2                Kanye West   \n",
      "132                         The Night We Met                Lord Huron   \n",
      "121                             Danza Kuduro         Don Omar, Lucenzo   \n",
      "\n",
      "     cross_platform_presence  \n",
      "551                    30210  \n",
      "87                     27556  \n",
      "131                    23579  \n",
      "362                    22604  \n",
      "143                    21952  \n",
      "91                     21720  \n",
      "144                    20688  \n",
      "777                    20113  \n",
      "132                    19524  \n",
      "121                    18231  \n"
     ]
    }
   ],
   "source": [
    "# Correlation between playlists on different platforms\n",
    "correlation_spotify_apple = df['in_spotify_playlists'].corr(df['in_apple_playlists'])\n",
    "correlation_spotify_deezer = df['in_spotify_playlists'].corr(df['in_deezer_playlists'])\n",
    "correlation_apple_deezer = df['in_apple_playlists'].corr(df['in_deezer_playlists'])\n",
    "\n",
    "print(f\"Correlation between Spotify and Apple playlists: {correlation_spotify_apple}\")\n",
    "print(f\"Correlation between Spotify and Deezer playlists: {correlation_spotify_deezer}\")\n",
    "print(f\"Correlation between Apple and Deezer playlists: {correlation_apple_deezer}\")\n",
    "\n",
    "# Songs with the highest cross-platform presence\n",
    "df['cross_platform_presence'] = df[['in_spotify_playlists', 'in_apple_playlists', 'in_deezer_playlists']].sum(axis=1)\n",
    "top_cross_platform_songs = df.nlargest(10, 'cross_platform_presence')[['track_name', 'artist(s)_name', 'cross_platform_presence']]\n",
    "print(\"Top 10 songs with the highest cross-platform presence:\")\n",
    "print(top_cross_platform_songs)"
   ]
  },
  {
   "cell_type": "markdown",
   "id": "80af1a6e-259b-413b-8f46-6851f6e4206e",
   "metadata": {},
   "source": [
    "<h2>Export Dataframes Directly to Local Device</h2>"
   ]
  },
  {
   "cell_type": "code",
   "execution_count": 75,
   "id": "8afbe031-e8ac-456f-abf2-48f4eee3b046",
   "metadata": {},
   "outputs": [],
   "source": [
    "import os\n",
    "\n",
    "# Define the path to save the file\n",
    "save_path = r'path name'  # Replace with your desired folder\n",
    "\n",
    "# Save each DataFrame to the specified path\n",
    "mode_distribution.to_csv(os.path.join(save_path, 'mode_distribution.csv'), index=True)\n",
    "key_distribution.to_csv(os.path.join(save_path, 'key_distribution.csv'), index=True)\n",
    "avg_streams_by_artist_count.to_csv(os.path.join(save_path, 'avg_streams_by_artist_count.csv'), index=True)\n",
    "top_artists_by_streams.to_csv(os.path.join(save_path, 'top_artists_by_streams.csv'), index=True)\n",
    "avg_bpm_by_year.to_csv(os.path.join(save_path, 'avg_bpm_by_year.csv'), index=True)\n",
    "most_common_key_by_year.to_csv(os.path.join(save_path, 'most_common_key_by_year.csv'), index=True)\n",
    "most_common_mode_by_year.to_csv(os.path.join(save_path, 'most_common_mode_by_year.csv'), index=True)\n",
    "top_cross_platform_songs.to_csv(os.path.join(save_path, 'top_cross_platform_songs.csv'), index=True)\n",
    "\n",
    "# mode_distribution.to_csv('mode_distribution.csv', index=False)\n",
    "# key_distribution.to_csv('key_distribution.csv', index=False)\n",
    "# avg_streams_by_artist_count.to_csv('avg_streams_by_artist_count.csv', index=False)\n",
    "# top_artists_by_streams.to_csv('top_artists_by_streams.csv', index=False)\n",
    "# avg_bpm_by_year.to_csv('avg_bpm_by_year.csv', index=False)\n",
    "# most_common_key_by_year.to_csv('most_common_key_by_year.csv', index=False)\n",
    "# most_common_mode_by_year.to_csv('most_common_mode_by_year.csv', index=False)\n",
    "# top_cross_platform_songs.to_csv('top_cross_platform_songs.csv', index=False)"
   ]
  },
  {
   "cell_type": "code",
   "execution_count": null,
   "id": "07e0fb11-e610-4c58-b2f0-0cbbeaeb74f6",
   "metadata": {},
   "outputs": [],
   "source": []
  }
 ],
 "metadata": {
  "kernelspec": {
   "display_name": "Python [conda env:base] *",
   "language": "python",
   "name": "conda-base-py"
  },
  "language_info": {
   "codemirror_mode": {
    "name": "ipython",
    "version": 3
   },
   "file_extension": ".py",
   "mimetype": "text/x-python",
   "name": "python",
   "nbconvert_exporter": "python",
   "pygments_lexer": "ipython3",
   "version": "3.12.7"
  }
 },
 "nbformat": 4,
 "nbformat_minor": 5
}
